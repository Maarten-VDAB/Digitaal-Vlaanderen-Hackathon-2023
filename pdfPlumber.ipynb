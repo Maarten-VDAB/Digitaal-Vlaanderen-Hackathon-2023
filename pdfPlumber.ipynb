{
 "cells": [
  {
   "cell_type": "code",
   "execution_count": 3,
   "metadata": {},
   "outputs": [
    {
     "name": "stdout",
     "output_type": "stream",
     "text": [
      "Ons kenmerk:\n",
      "ASB/1/document\n",
      " \n",
      "Klantnummer:\n",
      "60004022 \n",
      "Datum:\n",
      "17-10-2023 \n",
      "Mina Mina \n",
      "Abdijstraat 1 \n",
      "BE-1000 BRUSSEL \n",
      "Hallo Mina, \n",
      "We hebben een overzicht gemaakt van je gesprekken en opdrachten bij VDAB of één van onze partners.\n",
      "In bijlage vind je je nieuwe (of gewijzigde) gesprekken en opdrachten. Alle gesprekken en opdrachten \n",
      "zijn terug te vinden in je online account op vdab.be, net als dit document.  \n",
      "Jouw bemiddelingstraject\n",
      "● Bemiddeling bij het zoeken naar werk \n",
      "Om je zo goed mogelijk te begeleiden in het zoeken naar werk, volgt je bemiddelaar je \n",
      "verder op. Tijdens jullie gesprekken bekijken jullie hoe het zoeken naar werk verloopt. Als \n",
      "je problemen ondervindt, helpt je bemiddelaar bij het zoeken naar oplossingen. \n",
      "Gesprekken\n",
      "OKT \n",
      "30  Gesprek met je bemiddelaar meer info in afsprakenbundel van\n",
      "met Ellen Pauwels - VDAB-kantoor  17-10-2023\n",
      "10u00 \n",
      "Gesprekken en opdrachten zijn verplicht. \n",
      "Je moet je aan deze plichten houden. Kom je de gesprekken niet na en/of voer je de opdrachten niet \n",
      "uit, dan kan dit gevolgen hebben. Meer info op vdab.be/rechtenenplichten.\n",
      "We verwachten dat je zelf actief naar werk zoekt. \n",
      "Het is belangrijk dat je op elk moment kan aantonen dat je actief naar werk zoekt. Hou je sollicitatie-\n",
      "acties goed bij. Je kan hiervoor je online account gebruiken. Gebruik je hiervoor je account niet, hou \n",
      "dan je sollicitatiebewijzen of andere documenten die aantonen dat je actief naar werk zoekt goed bij. \n",
      "Ontvang je een bedrijfstoeslag (brugpensioen)? Dan gelden er andere regels, meer info op \n",
      "vdab.be/rechtenenplichten/plus.\n",
      "1/2\n"
     ]
    }
   ],
   "source": [
    "import pdfplumber\n",
    "\n",
    "with pdfplumber.open(\"Gesprek_Mina.pdf\") as pdf:\n",
    "    first_page = pdf.pages[0]\n",
    "    print(first_page.extract_text_simple(x_tolerance=3, y_tolerance=3))\n",
    "    "
   ]
  },
  {
   "cell_type": "code",
   "execution_count": 13,
   "metadata": {},
   "outputs": [
    {
     "name": "stdout",
     "output_type": "stream",
     "text": [
      "<class 'list'>\n",
      "2\n",
      "Ons kenmerk:\n",
      "ASB/1/document\n",
      " \n",
      "Klantnummer:\n",
      "60004022 \n",
      "Datum:\n",
      "17-10-2023 \n",
      "Mina Mina \n",
      "Abdijstraat 1 \n",
      "BE-1000 BRUSSEL \n",
      "Hallo Mina, \n",
      "We hebben een overzicht gemaakt van je gesprekken en opdrachten bij VDAB of één van onze partners.\n",
      "In bijlage vind je je nieuwe (of gewijzigde) gesprekken en opdrachten. Alle gesprekken en opdrachten \n",
      "zijn terug te vinden in je online account op vdab.be, net als dit document.  \n",
      "Jouw bemiddelingstraject\n",
      "● Bemiddeling bij het zoeken naar werk \n",
      "Om je zo goed mogelijk te begeleiden in het zoeken naar werk, volgt je bemiddelaar je \n",
      "verder op. Tijdens jullie gesprekken bekijken jullie hoe het zoeken naar werk verloopt. Als \n",
      "je problemen ondervindt, helpt je bemiddelaar bij het zoeken naar oplossingen. \n",
      "Gesprekken\n",
      "OKT \n",
      "30  Gesprek met je bemiddelaar meer info in afsprakenbundel van\n",
      "met Ellen Pauwels - VDAB-kantoor  17-10-2023\n",
      "10u00 \n",
      "Gesprekken en opdrachten zijn verplicht. \n",
      "Je moet je aan deze plichten houden. Kom je de gesprekken niet na en/of voer je de opdrachten niet \n",
      "uit, dan kan dit gevolgen hebben. Meer info op vdab.be/rechtenenplichten.\n",
      "We verwachten dat je zelf actief naar werk zoekt. \n",
      "Het is belangrijk dat je op elk moment kan aantonen dat je actief naar werk zoekt. Hou je sollicitatie-\n",
      "acties goed bij. Je kan hiervoor je online account gebruiken. Gebruik je hiervoor je account niet, hou \n",
      "dan je sollicitatiebewijzen of andere documenten die aantonen dat je actief naar werk zoekt goed bij. \n",
      "Ontvang je een bedrijfstoeslag (brugpensioen)? Dan gelden er andere regels, meer info op \n",
      "vdab.be/rechtenenplichten/plus.\n",
      "1/2\n",
      "Klantnummer:\n",
      "60004022 \n",
      "Datum:\n",
      "17-10-2023 \n",
      "Vriendelijke groeten \n",
      "VDAB\n",
      "Gesprekken zijn opvolgingsgesprekken zoals bedoeld in het Besluit van de Vlaamse Regering van 5 juni 2009 houdende de organisatie van de \n",
      "arbeidsbemiddeling en de beroepsopleiding. Opdrachten zijn afspraken zoals bedoeld in datzelfde besluit.\n",
      "Plaats hieronder je handtekening als je bemiddelaar het vraagt. \n",
      "Opgemaakt op dinsdag 17 oktober 2023 om 12:27.\n",
      "Handtekening werkzoekende Handtekening bemiddelaar\n",
      "Plaats \n",
      "je handtekening \n",
      "in het voor jou \n",
      "voorziene vakje\n",
      "Mina Mina    \n",
      "2/2\n"
     ]
    }
   ],
   "source": [
    "with pdfplumber.open(\"Gesprek_Mina.pdf\") as pdf:\n",
    "    nb_pages = pdf.pages\n",
    "    print(type(nb_pages))\n",
    "    print(len(nb_pages))\n",
    "\n",
    "    for page in nb_pages:\n",
    "        print(page.extract_text_simple(x_tolerance=3, y_tolerance=3))"
   ]
  },
  {
   "cell_type": "code",
   "execution_count": null,
   "metadata": {},
   "outputs": [],
   "source": []
  }
 ],
 "metadata": {
  "kernelspec": {
   "display_name": "hackathon",
   "language": "python",
   "name": "python3"
  },
  "language_info": {
   "codemirror_mode": {
    "name": "ipython",
    "version": 3
   },
   "file_extension": ".py",
   "mimetype": "text/x-python",
   "name": "python",
   "nbconvert_exporter": "python",
   "pygments_lexer": "ipython3",
   "version": "3.10.9"
  },
  "orig_nbformat": 4
 },
 "nbformat": 4,
 "nbformat_minor": 2
}
